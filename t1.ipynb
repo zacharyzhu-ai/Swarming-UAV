{
 "cells": [
  {
   "cell_type": "markdown",
   "metadata": {},
   "source": [
    "# Sentinel: Multi-Agent UAV System with Computer Vision\n",
    "\n",
    "This notebook implements a sophisticated UAV swarm system with computer vision capabilities for emergency response scenarios.\n",
    "\n",
    "## Features\n",
    "* Multi-agent swarm coordination\n",
    "* Leader-follower dynamics\n",
    "* Thermal imaging simulation\n",
    "* Real-time fire detection\n",
    "\n",
    "## Setup\n",
    "First, let's import our required libraries:"
   ]
  },
  {
   "cell_type": "code",
   "execution_count": 14,
   "metadata": {},
   "outputs": [],
   "source": [
    "import numpy as np\n",
    "import cv2\n",
    "import matplotlib.pyplot as plt\n",
    "from matplotlib.animation import FuncAnimation\n",
    "import matplotlib.colors as mcolors"
   ]
  },
  {
   "cell_type": "markdown",
   "metadata": {},
   "source": [
    "## 1. Fire Source Simulation\n",
    "First, we'll implement the fire source simulation that our UAVs will detect:"
   ]
  },
  {
   "cell_type": "code",
   "execution_count": 15,
   "metadata": {},
   "outputs": [],
   "source": [
    "class FireSource:\n",
    "    def __init__(self, x, y, intensity=1.0, spread_rate=0.1):\n",
    "        self.position = np.array([x, y])\n",
    "        self.intensity = intensity\n",
    "        self.spread_rate = spread_rate\n",
    "        self.radius = 20  # Initial fire radius\n",
    "        \n",
    "    def update(self):\n",
    "        # Simulate fire spread\n",
    "        self.radius += self.spread_rate\n",
    "        self.intensity = max(0.5, self.intensity * (1 - 0.01 * np.random.random()))"
   ]
  },
  {
   "cell_type": "markdown",
   "metadata": {},
   "source": [
    "## 2. Thermal Camera System\n",
    "Next, we implement the thermal camera simulation that will be mounted on each UAV:"
   ]
  },
  {
   "cell_type": "code",
   "execution_count": 16,
   "metadata": {},
   "outputs": [],
   "source": [
    "class ThermalCamera:\n",
    "    def __init__(self, resolution=(100, 100), fov=60):\n",
    "        self.resolution = resolution\n",
    "        self.fov = fov  # Field of view in degrees\n",
    "        self.view_distance = 100  # Maximum viewing distance\n",
    "        \n",
    "    def capture(self, position, direction, environment):\n",
    "        thermal_image = np.zeros(self.resolution)\n",
    "        angle = np.arctan2(direction[1], direction[0])\n",
    "        \n",
    "        for fire in environment.fire_sources:\n",
    "            rel_pos = fire.position - position\n",
    "            distance = np.linalg.norm(rel_pos)\n",
    "            \n",
    "            if distance < self.view_distance:\n",
    "                rel_angle = np.arctan2(rel_pos[1], rel_pos[0]) - angle\n",
    "                rel_angle = np.rad2deg(rel_angle)\n",
    "                \n",
    "                if abs(rel_angle) < self.fov/2:\n",
    "                    x_img = int((rel_angle + self.fov/2) / self.fov * self.resolution[0])\n",
    "                    y_img = int((1 - distance/self.view_distance) * self.resolution[1])\n",
    "                    intensity = fire.intensity * (1 - distance/self.view_distance)\n",
    "                    cv2.circle(thermal_image, (x_img, y_img),\n",
    "                             int(fire.radius * (1 - distance/self.view_distance)),\n",
    "                             intensity, -1)\n",
    "        return thermal_image"
   ]
  },
  {
   "cell_type": "markdown",
   "metadata": {},
   "source": [
    "## 3. Base Drone Implementation\n",
    "Now we'll implement the base Boid class that provides core swarm behavior:"
   ]
  },
  {
   "cell_type": "code",
   "execution_count": 17,
   "metadata": {},
   "outputs": [],
   "source": [
    "class Boid:\n",
    "    def __init__(self, x, y, is_leader=False):\n",
    "        self.position = np.array([x, y], dtype=float)\n",
    "        self.velocity = np.array([np.random.randn(), np.random.randn()], dtype=float)\n",
    "        self.acceleration = np.array([0.0, 0.0])\n",
    "        self.max_force = 0.5\n",
    "        self.max_speed = 4.0 if is_leader else 3.0\n",
    "        self.perception_radius = 50\n",
    "        self.is_leader = is_leader\n",
    "        \n",
    "    def update(self):\n",
    "        self.velocity += self.acceleration\n",
    "        speed = np.linalg.norm(self.velocity)\n",
    "        if speed > self.max_speed:\n",
    "            self.velocity = (self.velocity / speed) * self.max_speed\n",
    "        self.position += self.velocity\n",
    "        self.acceleration = np.array([0.0, 0.0])\n",
    "        \n",
    "    def seek(self, target):\n",
    "        desired = target - self.position\n",
    "        if np.linalg.norm(desired) > 0:\n",
    "            desired = desired / np.linalg.norm(desired) * self.max_speed\n",
    "        steer = desired - self.velocity\n",
    "        if np.linalg.norm(steer) > self.max_force:\n",
    "            steer = steer / np.linalg.norm(steer) * self.max_force\n",
    "        return steer"
   ]
  },
  {
   "cell_type": "markdown",
   "metadata": {},
   "source": [
    "## 4. CV-Enhanced Drone\n",
    "Now we extend the Boid class with computer vision capabilities:"
   ]
  },
  {
   "cell_type": "code",
   "execution_count": 18,
   "metadata": {},
   "outputs": [],
   "source": [
    "class CVDrone(Boid):\n",
    "    def __init__(self, x, y, is_leader=False):\n",
    "        super().__init__(x, y, is_leader)\n",
    "        self.camera = ThermalCamera()\n",
    "        self.thermal_image = None\n",
    "        self.detected_fires = []\n",
    "        \n",
    "    def process_thermal_image(self, threshold=0.5):\n",
    "        if self.thermal_image is None:\n",
    "            return\n",
    "        \n",
    "        hot_spots = cv2.threshold(self.thermal_image, threshold, 1, cv2.THRESH_BINARY)[1]\n",
    "        contours, _ = cv2.findContours(hot_spots.astype(np.uint8),\n",
    "                                     cv2.RETR_EXTERNAL,\n",
    "                                     cv2.CHAIN_APPROX_SIMPLE)\n",
    "        \n",
    "        self.detected_fires = []\n",
    "        for contour in contours:\n",
    "            M = cv2.moments(contour)\n",
    "            if M[\"m00\"] > 0:\n",
    "                cx = int(M[\"m10\"] / M[\"m00\"])\n",
    "                cy = int(M[\"m01\"] / M[\"m00\"])\n",
    "                area = cv2.contourArea(contour)\n",
    "                self.detected_fires.append((cx, cy, area))"
   ]
  },
  {
   "cell_type": "markdown",
   "metadata": {},
   "source": [
    "## 5. Environment Management\n",
    "Implementing the environment that will contain and update fire sources:"
   ]
  },
  {
   "cell_type": "code",
   "execution_count": 19,
   "metadata": {},
   "outputs": [],
   "source": [
    "class Environment:\n",
    "    def __init__(self):\n",
    "        self.fire_sources = []\n",
    "        \n",
    "    def add_fire(self, x, y):\n",
    "        self.fire_sources.append(FireSource(x, y))\n",
    "        \n",
    "    def update(self):\n",
    "        for fire in self.fire_sources:\n",
    "            fire.update()"
   ]
  },
  {
   "cell_type": "markdown",
   "metadata": {},
   "source": [
    "## 6. Swarm Control System\n",
    "Implementing the main swarm management system that coordinates all UAVs:"
   ]
  },
  {
   "cell_type": "code",
   "execution_count": 20,
   "metadata": {},
   "outputs": [],
   "source": [
    "class CVSwarm:\n",
    "    def __init__(self, num_boids, num_leaders=1):\n",
    "        self.environment = Environment()\n",
    "        self.environment.add_fire(300, 200)\n",
    "        self.environment.add_fire(600, 400)\n",
    "        \n",
    "        # Initialize swarm with CV-enabled drones\n",
    "        self.boids = []\n",
    "        # Create leaders\n",
    "        for _ in range(num_leaders):\n",
    "            x = np.random.randint(0, 800)\n",
    "            y = np.random.randint(0, 600)\n",
    "            self.boids.append(CVDrone(x, y, is_leader=True))\n",
    "        \n",
    "        # Create followers\n",
    "        for _ in range(num_boids - num_leaders):\n",
    "            x = np.random.randint(0, 800)\n",
    "            y = np.random.randint(0, 600)\n",
    "            self.boids.append(CVDrone(x, y))\n",
    "\n",
    "    def cohesion(self, boid):\n",
    "        \"\"\"Steer towards average position of nearby boids\"\"\"\n",
    "        steering = np.array([0.0, 0.0])\n",
    "        total = 0\n",
    "        \n",
    "        for other in self.boids:\n",
    "            distance = np.linalg.norm(other.position - boid.position)\n",
    "            if other != boid and distance < boid.perception_radius:\n",
    "                steering += other.position\n",
    "                total += 1\n",
    "        \n",
    "        if total > 0:\n",
    "            steering = steering / total - boid.position\n",
    "            if np.linalg.norm(steering) > 0:\n",
    "                steering = (steering / np.linalg.norm(steering)) * boid.max_speed\n",
    "            steering = steering - boid.velocity\n",
    "            if np.linalg.norm(steering) > boid.max_force:\n",
    "                steering = (steering / np.linalg.norm(steering)) * boid.max_force\n",
    "        \n",
    "        return steering\n",
    "\n",
    "    def alignment(self, boid):\n",
    "        \"\"\"Match velocity with nearby boids\"\"\"\n",
    "        steering = np.array([0.0, 0.0])\n",
    "        total = 0\n",
    "        \n",
    "        for other in self.boids:\n",
    "            distance = np.linalg.norm(other.position - boid.position)\n",
    "            if other != boid and distance < boid.perception_radius:\n",
    "                steering += other.velocity\n",
    "                total += 1\n",
    "        \n",
    "        if total > 0:\n",
    "            steering = steering / total\n",
    "            if np.linalg.norm(steering) > 0:\n",
    "                steering = (steering / np.linalg.norm(steering)) * boid.max_speed\n",
    "            steering = steering - boid.velocity\n",
    "            if np.linalg.norm(steering) > boid.max_force:\n",
    "                steering = (steering / np.linalg.norm(steering)) * boid.max_force\n",
    "        \n",
    "        return steering\n",
    "\n",
    "    def separation(self, boid):\n",
    "        \"\"\"Avoid crowding nearby boids\"\"\"\n",
    "        steering = np.array([0.0, 0.0])\n",
    "        total = 0\n",
    "        \n",
    "        for other in self.boids:\n",
    "            distance = np.linalg.norm(other.position - boid.position)\n",
    "            if other != boid and distance < boid.perception_radius:\n",
    "                diff = boid.position - other.position\n",
    "                diff = diff / (distance * distance)  # Weight by distance\n",
    "                steering += diff\n",
    "                total += 1\n",
    "        \n",
    "        if total > 0:\n",
    "            steering = steering / total\n",
    "            if np.linalg.norm(steering) > 0:\n",
    "                steering = (steering / np.linalg.norm(steering)) * boid.max_speed\n",
    "            steering = steering - boid.velocity\n",
    "            if np.linalg.norm(steering) > boid.max_force:\n",
    "                steering = (steering / np.linalg.norm(steering)) * boid.max_force\n",
    "        \n",
    "        return steering\n",
    "            \n",
    "    def update_all(self):\n",
    "        # Update environment\n",
    "        self.environment.update()\n",
    "        \n",
    "        # Update each drone\n",
    "        for boid in self.boids:\n",
    "            boid.thermal_image = boid.camera.capture(\n",
    "                boid.position, \n",
    "                boid.velocity, \n",
    "                self.environment\n",
    "            )\n",
    "            boid.process_thermal_image()\n",
    "            \n",
    "            # Update movement based on swarm behavior\n",
    "            if boid.is_leader:\n",
    "                # Leaders investigate detected fires\n",
    "                if boid.detected_fires:\n",
    "                    # Move towards largest detected fire\n",
    "                    largest_fire = max(boid.detected_fires, key=lambda x: x[2])\n",
    "                    target_force = boid.seek(\n",
    "                        np.array([largest_fire[0], largest_fire[1]])\n",
    "                    ) * 1.5\n",
    "                    boid.apply_force(target_force)\n",
    "            else:\n",
    "                # Followers maintain swarm behavior\n",
    "                cohesion = self.cohesion(boid) * 1.0\n",
    "                alignment = self.alignment(boid) * 1.0\n",
    "                separation = self.separation(boid) * 1.5\n",
    "                \n",
    "                boid.apply_force(cohesion)\n",
    "                boid.apply_force(alignment)\n",
    "                boid.apply_force(separation)\n",
    "            \n",
    "            # Update position\n",
    "            boid.update()\n",
    "            \n",
    "            # Wrap around screen edges\n",
    "            boid.position[0] = boid.position[0] % 800\n",
    "            boid.position[1] = boid.position[1] % 600"
   ]
  },
  {
   "cell_type": "markdown",
   "metadata": {},
   "source": [
    "## 7. Visualization System\n",
    "Setting up the visualization and animation system:"
   ]
  },
  {
   "cell_type": "code",
   "execution_count": 21,
   "metadata": {},
   "outputs": [],
   "source": [
    "def animate(frame):\n",
    "    plt.clf()\n",
    "    \n",
    "    # Set up subplots\n",
    "    plt.subplot(121)  # Main simulation view\n",
    "    \n",
    "    # Draw fire sources\n",
    "    for fire in swarm.environment.fire_sources:\n",
    "        circle = plt.Circle(fire.position, fire.radius, \n",
    "                          color='red', alpha=fire.intensity)\n",
    "        plt.gca().add_patch(circle)\n",
    "    \n",
    "    # Draw drones\n",
    "    for boid in swarm.boids:\n",
    "        if boid.is_leader:\n",
    "            color = 'blue'\n",
    "            size = 100\n",
    "        else:\n",
    "            color = 'gray'\n",
    "            size = 50\n",
    "        plt.scatter(boid.position[0], boid.position[1], c=color, s=size)\n",
    "        \n",
    "        # Draw field of view cone\n",
    "        if isinstance(boid, CVDrone):\n",
    "            direction = boid.velocity / np.linalg.norm(boid.velocity)\n",
    "            fov_angle = np.deg2rad(boid.camera.fov/2)\n",
    "            left_edge = np.array([\n",
    "                np.cos(np.arctan2(direction[1], direction[0]) - fov_angle),\n",
    "                np.sin(np.arctan2(direction[1], direction[0]) - fov_angle)\n",
    "            ])\n",
    "            right_edge = np.array([\n",
    "                np.cos(np.arctan2(direction[1], direction[0]) + fov_angle),\n",
    "                np.sin(np.arctan2(direction[1], direction[0]) + fov_angle)\n",
    "            ])\n",
    "            plt.plot([boid.position[0], boid.position[0] + left_edge[0]*50],\n",
    "                    [boid.position[1], boid.position[1] + left_edge[1]*50],\n",
    "                    '--', color=color, alpha=0.3)\n",
    "            plt.plot([boid.position[0], boid.position[0] + right_edge[0]*50],\n",
    "                    [boid.position[1], boid.position[1] + right_edge[1]*50],\n",
    "                    '--', color=color, alpha=0.3)\n",
    "    \n",
    "    plt.xlim(0, 800)\n",
    "    plt.ylim(0, 600)\n",
    "    plt.title('Sentinel: Multi-Agent UAV System')\n",
    "    \n",
    "    # Thermal imaging view\n",
    "    plt.subplot(122)\n",
    "    if len(swarm.boids) > 0 and swarm.boids[0].thermal_image is not None:\n",
    "        plt.imshow(swarm.boids[0].thermal_image, cmap='hot')\n",
    "        plt.title('Thermal Image from Leader Drone')\n",
    "    \n",
    "    swarm.update_all()"
   ]
  },
  {
   "cell_type": "markdown",
   "metadata": {},
   "source": [
    "## 8. Run Simulation\n",
    "Now let's create and run our simulation:"
   ]
  },
  {
   "cell_type": "code",
   "execution_count": 22,
   "metadata": {},
   "outputs": [
    {
     "ename": "AttributeError",
     "evalue": "'CVDrone' object has no attribute 'apply_force'",
     "output_type": "error",
     "traceback": [
      "\u001b[0;31m---------------------------------------------------------------------------\u001b[0m",
      "\u001b[0;31mAttributeError\u001b[0m                            Traceback (most recent call last)",
      "Cell \u001b[0;32mIn[22], line 9\u001b[0m\n\u001b[1;32m      6\u001b[0m anim \u001b[38;5;241m=\u001b[39m FuncAnimation(fig, animate, frames\u001b[38;5;241m=\u001b[39m\u001b[38;5;241m500\u001b[39m, interval\u001b[38;5;241m=\u001b[39m\u001b[38;5;241m50\u001b[39m)\n\u001b[1;32m      8\u001b[0m \u001b[38;5;28;01mfrom\u001b[39;00m\u001b[38;5;250m \u001b[39m\u001b[38;5;21;01mIPython\u001b[39;00m\u001b[38;5;21;01m.\u001b[39;00m\u001b[38;5;21;01mdisplay\u001b[39;00m\u001b[38;5;250m \u001b[39m\u001b[38;5;28;01mimport\u001b[39;00m HTML\n\u001b[0;32m----> 9\u001b[0m HTML(\u001b[43manim\u001b[49m\u001b[38;5;241;43m.\u001b[39;49m\u001b[43mto_jshtml\u001b[49m\u001b[43m(\u001b[49m\u001b[43m)\u001b[49m)\n",
      "File \u001b[0;32m~/Desktop/JohnZhu/Sentinel/s1/lib/python3.10/site-packages/matplotlib/animation.py:1376\u001b[0m, in \u001b[0;36mAnimation.to_jshtml\u001b[0;34m(self, fps, embed_frames, default_mode)\u001b[0m\n\u001b[1;32m   1372\u001b[0m         path \u001b[38;5;241m=\u001b[39m Path(tmpdir, \u001b[38;5;124m\"\u001b[39m\u001b[38;5;124mtemp.html\u001b[39m\u001b[38;5;124m\"\u001b[39m)\n\u001b[1;32m   1373\u001b[0m         writer \u001b[38;5;241m=\u001b[39m HTMLWriter(fps\u001b[38;5;241m=\u001b[39mfps,\n\u001b[1;32m   1374\u001b[0m                             embed_frames\u001b[38;5;241m=\u001b[39membed_frames,\n\u001b[1;32m   1375\u001b[0m                             default_mode\u001b[38;5;241m=\u001b[39mdefault_mode)\n\u001b[0;32m-> 1376\u001b[0m         \u001b[38;5;28;43mself\u001b[39;49m\u001b[38;5;241;43m.\u001b[39;49m\u001b[43msave\u001b[49m\u001b[43m(\u001b[49m\u001b[38;5;28;43mstr\u001b[39;49m\u001b[43m(\u001b[49m\u001b[43mpath\u001b[49m\u001b[43m)\u001b[49m\u001b[43m,\u001b[49m\u001b[43m \u001b[49m\u001b[43mwriter\u001b[49m\u001b[38;5;241;43m=\u001b[39;49m\u001b[43mwriter\u001b[49m\u001b[43m)\u001b[49m\n\u001b[1;32m   1377\u001b[0m         \u001b[38;5;28mself\u001b[39m\u001b[38;5;241m.\u001b[39m_html_representation \u001b[38;5;241m=\u001b[39m path\u001b[38;5;241m.\u001b[39mread_text()\n\u001b[1;32m   1379\u001b[0m \u001b[38;5;28;01mreturn\u001b[39;00m \u001b[38;5;28mself\u001b[39m\u001b[38;5;241m.\u001b[39m_html_representation\n",
      "File \u001b[0;32m~/Desktop/JohnZhu/Sentinel/s1/lib/python3.10/site-packages/matplotlib/animation.py:1109\u001b[0m, in \u001b[0;36mAnimation.save\u001b[0;34m(self, filename, writer, fps, dpi, codec, bitrate, extra_args, metadata, extra_anim, savefig_kwargs, progress_callback)\u001b[0m\n\u001b[1;32m   1106\u001b[0m     savefig_kwargs[\u001b[38;5;124m'\u001b[39m\u001b[38;5;124mtransparent\u001b[39m\u001b[38;5;124m'\u001b[39m] \u001b[38;5;241m=\u001b[39m \u001b[38;5;28;01mFalse\u001b[39;00m   \u001b[38;5;66;03m# just to be safe!\u001b[39;00m\n\u001b[1;32m   1108\u001b[0m \u001b[38;5;28;01mfor\u001b[39;00m anim \u001b[38;5;129;01min\u001b[39;00m all_anim:\n\u001b[0;32m-> 1109\u001b[0m     \u001b[43manim\u001b[49m\u001b[38;5;241;43m.\u001b[39;49m\u001b[43m_init_draw\u001b[49m\u001b[43m(\u001b[49m\u001b[43m)\u001b[49m  \u001b[38;5;66;03m# Clear the initial frame\u001b[39;00m\n\u001b[1;32m   1110\u001b[0m frame_number \u001b[38;5;241m=\u001b[39m \u001b[38;5;241m0\u001b[39m\n\u001b[1;32m   1111\u001b[0m \u001b[38;5;66;03m# TODO: Currently only FuncAnimation has a save_count\u001b[39;00m\n\u001b[1;32m   1112\u001b[0m \u001b[38;5;66;03m#       attribute. Can we generalize this to all Animations?\u001b[39;00m\n",
      "File \u001b[0;32m~/Desktop/JohnZhu/Sentinel/s1/lib/python3.10/site-packages/matplotlib/animation.py:1770\u001b[0m, in \u001b[0;36mFuncAnimation._init_draw\u001b[0;34m(self)\u001b[0m\n\u001b[1;32m   1762\u001b[0m         warnings\u001b[38;5;241m.\u001b[39mwarn(\n\u001b[1;32m   1763\u001b[0m             \u001b[38;5;124m\"\u001b[39m\u001b[38;5;124mCan not start iterating the frames for the initial draw. \u001b[39m\u001b[38;5;124m\"\u001b[39m\n\u001b[1;32m   1764\u001b[0m             \u001b[38;5;124m\"\u001b[39m\u001b[38;5;124mThis can be caused by passing in a 0 length sequence \u001b[39m\u001b[38;5;124m\"\u001b[39m\n\u001b[0;32m   (...)\u001b[0m\n\u001b[1;32m   1767\u001b[0m             \u001b[38;5;124m\"\u001b[39m\u001b[38;5;124mit may be exhausted due to a previous display or save.\u001b[39m\u001b[38;5;124m\"\u001b[39m\n\u001b[1;32m   1768\u001b[0m         )\n\u001b[1;32m   1769\u001b[0m         \u001b[38;5;28;01mreturn\u001b[39;00m\n\u001b[0;32m-> 1770\u001b[0m     \u001b[38;5;28;43mself\u001b[39;49m\u001b[38;5;241;43m.\u001b[39;49m\u001b[43m_draw_frame\u001b[49m\u001b[43m(\u001b[49m\u001b[43mframe_data\u001b[49m\u001b[43m)\u001b[49m\n\u001b[1;32m   1771\u001b[0m \u001b[38;5;28;01melse\u001b[39;00m:\n\u001b[1;32m   1772\u001b[0m     \u001b[38;5;28mself\u001b[39m\u001b[38;5;241m.\u001b[39m_drawn_artists \u001b[38;5;241m=\u001b[39m \u001b[38;5;28mself\u001b[39m\u001b[38;5;241m.\u001b[39m_init_func()\n",
      "File \u001b[0;32m~/Desktop/JohnZhu/Sentinel/s1/lib/python3.10/site-packages/matplotlib/animation.py:1789\u001b[0m, in \u001b[0;36mFuncAnimation._draw_frame\u001b[0;34m(self, framedata)\u001b[0m\n\u001b[1;32m   1785\u001b[0m     \u001b[38;5;28mself\u001b[39m\u001b[38;5;241m.\u001b[39m_save_seq \u001b[38;5;241m=\u001b[39m \u001b[38;5;28mself\u001b[39m\u001b[38;5;241m.\u001b[39m_save_seq[\u001b[38;5;241m-\u001b[39m\u001b[38;5;28mself\u001b[39m\u001b[38;5;241m.\u001b[39m_save_count:]\n\u001b[1;32m   1787\u001b[0m \u001b[38;5;66;03m# Call the func with framedata and args. If blitting is desired,\u001b[39;00m\n\u001b[1;32m   1788\u001b[0m \u001b[38;5;66;03m# func needs to return a sequence of any artists that were modified.\u001b[39;00m\n\u001b[0;32m-> 1789\u001b[0m \u001b[38;5;28mself\u001b[39m\u001b[38;5;241m.\u001b[39m_drawn_artists \u001b[38;5;241m=\u001b[39m \u001b[38;5;28;43mself\u001b[39;49m\u001b[38;5;241;43m.\u001b[39;49m\u001b[43m_func\u001b[49m\u001b[43m(\u001b[49m\u001b[43mframedata\u001b[49m\u001b[43m,\u001b[49m\u001b[43m \u001b[49m\u001b[38;5;241;43m*\u001b[39;49m\u001b[38;5;28;43mself\u001b[39;49m\u001b[38;5;241;43m.\u001b[39;49m\u001b[43m_args\u001b[49m\u001b[43m)\u001b[49m\n\u001b[1;32m   1791\u001b[0m \u001b[38;5;28;01mif\u001b[39;00m \u001b[38;5;28mself\u001b[39m\u001b[38;5;241m.\u001b[39m_blit:\n\u001b[1;32m   1793\u001b[0m     err \u001b[38;5;241m=\u001b[39m \u001b[38;5;167;01mRuntimeError\u001b[39;00m(\u001b[38;5;124m'\u001b[39m\u001b[38;5;124mThe animation function must return a sequence \u001b[39m\u001b[38;5;124m'\u001b[39m\n\u001b[1;32m   1794\u001b[0m                        \u001b[38;5;124m'\u001b[39m\u001b[38;5;124mof Artist objects.\u001b[39m\u001b[38;5;124m'\u001b[39m)\n",
      "Cell \u001b[0;32mIn[21], line 52\u001b[0m, in \u001b[0;36manimate\u001b[0;34m(frame)\u001b[0m\n\u001b[1;32m     49\u001b[0m     plt\u001b[38;5;241m.\u001b[39mimshow(swarm\u001b[38;5;241m.\u001b[39mboids[\u001b[38;5;241m0\u001b[39m]\u001b[38;5;241m.\u001b[39mthermal_image, cmap\u001b[38;5;241m=\u001b[39m\u001b[38;5;124m'\u001b[39m\u001b[38;5;124mhot\u001b[39m\u001b[38;5;124m'\u001b[39m)\n\u001b[1;32m     50\u001b[0m     plt\u001b[38;5;241m.\u001b[39mtitle(\u001b[38;5;124m'\u001b[39m\u001b[38;5;124mThermal Image from Leader Drone\u001b[39m\u001b[38;5;124m'\u001b[39m)\n\u001b[0;32m---> 52\u001b[0m \u001b[43mswarm\u001b[49m\u001b[38;5;241;43m.\u001b[39;49m\u001b[43mupdate_all\u001b[49m\u001b[43m(\u001b[49m\u001b[43m)\u001b[49m\n",
      "Cell \u001b[0;32mIn[20], line 115\u001b[0m, in \u001b[0;36mCVSwarm.update_all\u001b[0;34m(self)\u001b[0m\n\u001b[1;32m    112\u001b[0m alignment \u001b[38;5;241m=\u001b[39m \u001b[38;5;28mself\u001b[39m\u001b[38;5;241m.\u001b[39malignment(boid) \u001b[38;5;241m*\u001b[39m \u001b[38;5;241m1.0\u001b[39m\n\u001b[1;32m    113\u001b[0m separation \u001b[38;5;241m=\u001b[39m \u001b[38;5;28mself\u001b[39m\u001b[38;5;241m.\u001b[39mseparation(boid) \u001b[38;5;241m*\u001b[39m \u001b[38;5;241m1.5\u001b[39m\n\u001b[0;32m--> 115\u001b[0m \u001b[43mboid\u001b[49m\u001b[38;5;241;43m.\u001b[39;49m\u001b[43mapply_force\u001b[49m(cohesion)\n\u001b[1;32m    116\u001b[0m boid\u001b[38;5;241m.\u001b[39mapply_force(alignment)\n\u001b[1;32m    117\u001b[0m boid\u001b[38;5;241m.\u001b[39mapply_force(separation)\n",
      "\u001b[0;31mAttributeError\u001b[0m: 'CVDrone' object has no attribute 'apply_force'"
     ]
    },
    {
     "name": "stdout",
     "output_type": "stream",
     "text": [
      "Error in callback <function _draw_all_if_interactive at 0x114ce7ac0> (for post_execute), with arguments args (),kwargs {}:\n"
     ]
    },
    {
     "name": "stderr",
     "output_type": "stream",
     "text": [
      "/Users/johnzhu/Desktop/JohnZhu/Sentinel/s1/lib/python3.10/site-packages/matplotlib/animation.py:908: UserWarning: Animation was deleted without rendering anything. This is most likely not intended. To prevent deletion, assign the Animation to a variable, e.g. `anim`, that exists until you output the Animation using `plt.show()` or `anim.save()`.\n",
      "  warnings.warn(\n"
     ]
    },
    {
     "ename": "AttributeError",
     "evalue": "'CVDrone' object has no attribute 'apply_force'",
     "output_type": "error",
     "traceback": [
      "\u001b[0;31m---------------------------------------------------------------------------\u001b[0m",
      "\u001b[0;31mAttributeError\u001b[0m                            Traceback (most recent call last)",
      "File \u001b[0;32m~/Desktop/JohnZhu/Sentinel/s1/lib/python3.10/site-packages/matplotlib/pyplot.py:279\u001b[0m, in \u001b[0;36m_draw_all_if_interactive\u001b[0;34m()\u001b[0m\n\u001b[1;32m    277\u001b[0m \u001b[38;5;28;01mdef\u001b[39;00m\u001b[38;5;250m \u001b[39m\u001b[38;5;21m_draw_all_if_interactive\u001b[39m() \u001b[38;5;241m-\u001b[39m\u001b[38;5;241m>\u001b[39m \u001b[38;5;28;01mNone\u001b[39;00m:\n\u001b[1;32m    278\u001b[0m     \u001b[38;5;28;01mif\u001b[39;00m matplotlib\u001b[38;5;241m.\u001b[39mis_interactive():\n\u001b[0;32m--> 279\u001b[0m         \u001b[43mdraw_all\u001b[49m\u001b[43m(\u001b[49m\u001b[43m)\u001b[49m\n",
      "File \u001b[0;32m~/Desktop/JohnZhu/Sentinel/s1/lib/python3.10/site-packages/matplotlib/_pylab_helpers.py:131\u001b[0m, in \u001b[0;36mGcf.draw_all\u001b[0;34m(cls, force)\u001b[0m\n\u001b[1;32m    129\u001b[0m \u001b[38;5;28;01mfor\u001b[39;00m manager \u001b[38;5;129;01min\u001b[39;00m \u001b[38;5;28mcls\u001b[39m\u001b[38;5;241m.\u001b[39mget_all_fig_managers():\n\u001b[1;32m    130\u001b[0m     \u001b[38;5;28;01mif\u001b[39;00m force \u001b[38;5;129;01mor\u001b[39;00m manager\u001b[38;5;241m.\u001b[39mcanvas\u001b[38;5;241m.\u001b[39mfigure\u001b[38;5;241m.\u001b[39mstale:\n\u001b[0;32m--> 131\u001b[0m         \u001b[43mmanager\u001b[49m\u001b[38;5;241;43m.\u001b[39;49m\u001b[43mcanvas\u001b[49m\u001b[38;5;241;43m.\u001b[39;49m\u001b[43mdraw_idle\u001b[49m\u001b[43m(\u001b[49m\u001b[43m)\u001b[49m\n",
      "File \u001b[0;32m~/Desktop/JohnZhu/Sentinel/s1/lib/python3.10/site-packages/matplotlib/backend_bases.py:1891\u001b[0m, in \u001b[0;36mFigureCanvasBase.draw_idle\u001b[0;34m(self, *args, **kwargs)\u001b[0m\n\u001b[1;32m   1889\u001b[0m \u001b[38;5;28;01mif\u001b[39;00m \u001b[38;5;129;01mnot\u001b[39;00m \u001b[38;5;28mself\u001b[39m\u001b[38;5;241m.\u001b[39m_is_idle_drawing:\n\u001b[1;32m   1890\u001b[0m     \u001b[38;5;28;01mwith\u001b[39;00m \u001b[38;5;28mself\u001b[39m\u001b[38;5;241m.\u001b[39m_idle_draw_cntx():\n\u001b[0;32m-> 1891\u001b[0m         \u001b[38;5;28;43mself\u001b[39;49m\u001b[38;5;241;43m.\u001b[39;49m\u001b[43mdraw\u001b[49m\u001b[43m(\u001b[49m\u001b[38;5;241;43m*\u001b[39;49m\u001b[43margs\u001b[49m\u001b[43m,\u001b[49m\u001b[43m \u001b[49m\u001b[38;5;241;43m*\u001b[39;49m\u001b[38;5;241;43m*\u001b[39;49m\u001b[43mkwargs\u001b[49m\u001b[43m)\u001b[49m\n",
      "File \u001b[0;32m~/Desktop/JohnZhu/Sentinel/s1/lib/python3.10/site-packages/matplotlib/backends/backend_agg.py:382\u001b[0m, in \u001b[0;36mFigureCanvasAgg.draw\u001b[0;34m(self)\u001b[0m\n\u001b[1;32m    379\u001b[0m \u001b[38;5;66;03m# Acquire a lock on the shared font cache.\u001b[39;00m\n\u001b[1;32m    380\u001b[0m \u001b[38;5;28;01mwith\u001b[39;00m (\u001b[38;5;28mself\u001b[39m\u001b[38;5;241m.\u001b[39mtoolbar\u001b[38;5;241m.\u001b[39m_wait_cursor_for_draw_cm() \u001b[38;5;28;01mif\u001b[39;00m \u001b[38;5;28mself\u001b[39m\u001b[38;5;241m.\u001b[39mtoolbar\n\u001b[1;32m    381\u001b[0m       \u001b[38;5;28;01melse\u001b[39;00m nullcontext()):\n\u001b[0;32m--> 382\u001b[0m     \u001b[38;5;28;43mself\u001b[39;49m\u001b[38;5;241;43m.\u001b[39;49m\u001b[43mfigure\u001b[49m\u001b[38;5;241;43m.\u001b[39;49m\u001b[43mdraw\u001b[49m\u001b[43m(\u001b[49m\u001b[38;5;28;43mself\u001b[39;49m\u001b[38;5;241;43m.\u001b[39;49m\u001b[43mrenderer\u001b[49m\u001b[43m)\u001b[49m\n\u001b[1;32m    383\u001b[0m     \u001b[38;5;66;03m# A GUI class may be need to update a window using this draw, so\u001b[39;00m\n\u001b[1;32m    384\u001b[0m     \u001b[38;5;66;03m# don't forget to call the superclass.\u001b[39;00m\n\u001b[1;32m    385\u001b[0m     \u001b[38;5;28msuper\u001b[39m()\u001b[38;5;241m.\u001b[39mdraw()\n",
      "File \u001b[0;32m~/Desktop/JohnZhu/Sentinel/s1/lib/python3.10/site-packages/matplotlib/artist.py:94\u001b[0m, in \u001b[0;36m_finalize_rasterization.<locals>.draw_wrapper\u001b[0;34m(artist, renderer, *args, **kwargs)\u001b[0m\n\u001b[1;32m     92\u001b[0m \u001b[38;5;129m@wraps\u001b[39m(draw)\n\u001b[1;32m     93\u001b[0m \u001b[38;5;28;01mdef\u001b[39;00m\u001b[38;5;250m \u001b[39m\u001b[38;5;21mdraw_wrapper\u001b[39m(artist, renderer, \u001b[38;5;241m*\u001b[39margs, \u001b[38;5;241m*\u001b[39m\u001b[38;5;241m*\u001b[39mkwargs):\n\u001b[0;32m---> 94\u001b[0m     result \u001b[38;5;241m=\u001b[39m \u001b[43mdraw\u001b[49m\u001b[43m(\u001b[49m\u001b[43martist\u001b[49m\u001b[43m,\u001b[49m\u001b[43m \u001b[49m\u001b[43mrenderer\u001b[49m\u001b[43m,\u001b[49m\u001b[43m \u001b[49m\u001b[38;5;241;43m*\u001b[39;49m\u001b[43margs\u001b[49m\u001b[43m,\u001b[49m\u001b[43m \u001b[49m\u001b[38;5;241;43m*\u001b[39;49m\u001b[38;5;241;43m*\u001b[39;49m\u001b[43mkwargs\u001b[49m\u001b[43m)\u001b[49m\n\u001b[1;32m     95\u001b[0m     \u001b[38;5;28;01mif\u001b[39;00m renderer\u001b[38;5;241m.\u001b[39m_rasterizing:\n\u001b[1;32m     96\u001b[0m         renderer\u001b[38;5;241m.\u001b[39mstop_rasterizing()\n",
      "File \u001b[0;32m~/Desktop/JohnZhu/Sentinel/s1/lib/python3.10/site-packages/matplotlib/artist.py:71\u001b[0m, in \u001b[0;36mallow_rasterization.<locals>.draw_wrapper\u001b[0;34m(artist, renderer)\u001b[0m\n\u001b[1;32m     68\u001b[0m     \u001b[38;5;28;01mif\u001b[39;00m artist\u001b[38;5;241m.\u001b[39mget_agg_filter() \u001b[38;5;129;01mis\u001b[39;00m \u001b[38;5;129;01mnot\u001b[39;00m \u001b[38;5;28;01mNone\u001b[39;00m:\n\u001b[1;32m     69\u001b[0m         renderer\u001b[38;5;241m.\u001b[39mstart_filter()\n\u001b[0;32m---> 71\u001b[0m     \u001b[38;5;28;01mreturn\u001b[39;00m \u001b[43mdraw\u001b[49m\u001b[43m(\u001b[49m\u001b[43martist\u001b[49m\u001b[43m,\u001b[49m\u001b[43m \u001b[49m\u001b[43mrenderer\u001b[49m\u001b[43m)\u001b[49m\n\u001b[1;32m     72\u001b[0m \u001b[38;5;28;01mfinally\u001b[39;00m:\n\u001b[1;32m     73\u001b[0m     \u001b[38;5;28;01mif\u001b[39;00m artist\u001b[38;5;241m.\u001b[39mget_agg_filter() \u001b[38;5;129;01mis\u001b[39;00m \u001b[38;5;129;01mnot\u001b[39;00m \u001b[38;5;28;01mNone\u001b[39;00m:\n",
      "File \u001b[0;32m~/Desktop/JohnZhu/Sentinel/s1/lib/python3.10/site-packages/matplotlib/figure.py:3264\u001b[0m, in \u001b[0;36mFigure.draw\u001b[0;34m(self, renderer)\u001b[0m\n\u001b[1;32m   3261\u001b[0m \u001b[38;5;28;01mfinally\u001b[39;00m:\n\u001b[1;32m   3262\u001b[0m     \u001b[38;5;28mself\u001b[39m\u001b[38;5;241m.\u001b[39mstale \u001b[38;5;241m=\u001b[39m \u001b[38;5;28;01mFalse\u001b[39;00m\n\u001b[0;32m-> 3264\u001b[0m \u001b[43mDrawEvent\u001b[49m\u001b[43m(\u001b[49m\u001b[38;5;124;43m\"\u001b[39;49m\u001b[38;5;124;43mdraw_event\u001b[39;49m\u001b[38;5;124;43m\"\u001b[39;49m\u001b[43m,\u001b[49m\u001b[43m \u001b[49m\u001b[38;5;28;43mself\u001b[39;49m\u001b[38;5;241;43m.\u001b[39;49m\u001b[43mcanvas\u001b[49m\u001b[43m,\u001b[49m\u001b[43m \u001b[49m\u001b[43mrenderer\u001b[49m\u001b[43m)\u001b[49m\u001b[38;5;241;43m.\u001b[39;49m\u001b[43m_process\u001b[49m\u001b[43m(\u001b[49m\u001b[43m)\u001b[49m\n",
      "File \u001b[0;32m~/Desktop/JohnZhu/Sentinel/s1/lib/python3.10/site-packages/matplotlib/backend_bases.py:1189\u001b[0m, in \u001b[0;36mEvent._process\u001b[0;34m(self)\u001b[0m\n\u001b[1;32m   1187\u001b[0m \u001b[38;5;28;01mdef\u001b[39;00m\u001b[38;5;250m \u001b[39m\u001b[38;5;21m_process\u001b[39m(\u001b[38;5;28mself\u001b[39m):\n\u001b[1;32m   1188\u001b[0m \u001b[38;5;250m    \u001b[39m\u001b[38;5;124;03m\"\"\"Process this event on ``self.canvas``, then unset ``guiEvent``.\"\"\"\u001b[39;00m\n\u001b[0;32m-> 1189\u001b[0m     \u001b[38;5;28;43mself\u001b[39;49m\u001b[38;5;241;43m.\u001b[39;49m\u001b[43mcanvas\u001b[49m\u001b[38;5;241;43m.\u001b[39;49m\u001b[43mcallbacks\u001b[49m\u001b[38;5;241;43m.\u001b[39;49m\u001b[43mprocess\u001b[49m\u001b[43m(\u001b[49m\u001b[38;5;28;43mself\u001b[39;49m\u001b[38;5;241;43m.\u001b[39;49m\u001b[43mname\u001b[49m\u001b[43m,\u001b[49m\u001b[43m \u001b[49m\u001b[38;5;28;43mself\u001b[39;49m\u001b[43m)\u001b[49m\n\u001b[1;32m   1190\u001b[0m     \u001b[38;5;28mself\u001b[39m\u001b[38;5;241m.\u001b[39mguiEvent \u001b[38;5;241m=\u001b[39m \u001b[38;5;28;01mNone\u001b[39;00m\n",
      "File \u001b[0;32m~/Desktop/JohnZhu/Sentinel/s1/lib/python3.10/site-packages/matplotlib/cbook.py:366\u001b[0m, in \u001b[0;36mCallbackRegistry.process\u001b[0;34m(self, s, *args, **kwargs)\u001b[0m\n\u001b[1;32m    364\u001b[0m \u001b[38;5;28;01mexcept\u001b[39;00m \u001b[38;5;167;01mException\u001b[39;00m \u001b[38;5;28;01mas\u001b[39;00m exc:\n\u001b[1;32m    365\u001b[0m     \u001b[38;5;28;01mif\u001b[39;00m \u001b[38;5;28mself\u001b[39m\u001b[38;5;241m.\u001b[39mexception_handler \u001b[38;5;129;01mis\u001b[39;00m \u001b[38;5;129;01mnot\u001b[39;00m \u001b[38;5;28;01mNone\u001b[39;00m:\n\u001b[0;32m--> 366\u001b[0m         \u001b[38;5;28;43mself\u001b[39;49m\u001b[38;5;241;43m.\u001b[39;49m\u001b[43mexception_handler\u001b[49m\u001b[43m(\u001b[49m\u001b[43mexc\u001b[49m\u001b[43m)\u001b[49m\n\u001b[1;32m    367\u001b[0m     \u001b[38;5;28;01melse\u001b[39;00m:\n\u001b[1;32m    368\u001b[0m         \u001b[38;5;28;01mraise\u001b[39;00m\n",
      "File \u001b[0;32m~/Desktop/JohnZhu/Sentinel/s1/lib/python3.10/site-packages/matplotlib/cbook.py:110\u001b[0m, in \u001b[0;36m_exception_printer\u001b[0;34m(exc)\u001b[0m\n\u001b[1;32m    108\u001b[0m \u001b[38;5;28;01mdef\u001b[39;00m\u001b[38;5;250m \u001b[39m\u001b[38;5;21m_exception_printer\u001b[39m(exc):\n\u001b[1;32m    109\u001b[0m     \u001b[38;5;28;01mif\u001b[39;00m _get_running_interactive_framework() \u001b[38;5;129;01min\u001b[39;00m [\u001b[38;5;124m\"\u001b[39m\u001b[38;5;124mheadless\u001b[39m\u001b[38;5;124m\"\u001b[39m, \u001b[38;5;28;01mNone\u001b[39;00m]:\n\u001b[0;32m--> 110\u001b[0m         \u001b[38;5;28;01mraise\u001b[39;00m exc\n\u001b[1;32m    111\u001b[0m     \u001b[38;5;28;01melse\u001b[39;00m:\n\u001b[1;32m    112\u001b[0m         traceback\u001b[38;5;241m.\u001b[39mprint_exc()\n",
      "File \u001b[0;32m~/Desktop/JohnZhu/Sentinel/s1/lib/python3.10/site-packages/matplotlib/cbook.py:361\u001b[0m, in \u001b[0;36mCallbackRegistry.process\u001b[0;34m(self, s, *args, **kwargs)\u001b[0m\n\u001b[1;32m    359\u001b[0m \u001b[38;5;28;01mif\u001b[39;00m func \u001b[38;5;129;01mis\u001b[39;00m \u001b[38;5;129;01mnot\u001b[39;00m \u001b[38;5;28;01mNone\u001b[39;00m:\n\u001b[1;32m    360\u001b[0m     \u001b[38;5;28;01mtry\u001b[39;00m:\n\u001b[0;32m--> 361\u001b[0m         \u001b[43mfunc\u001b[49m\u001b[43m(\u001b[49m\u001b[38;5;241;43m*\u001b[39;49m\u001b[43margs\u001b[49m\u001b[43m,\u001b[49m\u001b[43m \u001b[49m\u001b[38;5;241;43m*\u001b[39;49m\u001b[38;5;241;43m*\u001b[39;49m\u001b[43mkwargs\u001b[49m\u001b[43m)\u001b[49m\n\u001b[1;32m    362\u001b[0m     \u001b[38;5;66;03m# this does not capture KeyboardInterrupt, SystemExit,\u001b[39;00m\n\u001b[1;32m    363\u001b[0m     \u001b[38;5;66;03m# and GeneratorExit\u001b[39;00m\n\u001b[1;32m    364\u001b[0m     \u001b[38;5;28;01mexcept\u001b[39;00m \u001b[38;5;167;01mException\u001b[39;00m \u001b[38;5;28;01mas\u001b[39;00m exc:\n",
      "File \u001b[0;32m~/Desktop/JohnZhu/Sentinel/s1/lib/python3.10/site-packages/matplotlib/animation.py:928\u001b[0m, in \u001b[0;36mAnimation._start\u001b[0;34m(self, *args)\u001b[0m\n\u001b[1;32m    925\u001b[0m \u001b[38;5;28mself\u001b[39m\u001b[38;5;241m.\u001b[39m_fig\u001b[38;5;241m.\u001b[39mcanvas\u001b[38;5;241m.\u001b[39mmpl_disconnect(\u001b[38;5;28mself\u001b[39m\u001b[38;5;241m.\u001b[39m_first_draw_id)\n\u001b[1;32m    927\u001b[0m \u001b[38;5;66;03m# Now do any initial draw\u001b[39;00m\n\u001b[0;32m--> 928\u001b[0m \u001b[38;5;28;43mself\u001b[39;49m\u001b[38;5;241;43m.\u001b[39;49m\u001b[43m_init_draw\u001b[49m\u001b[43m(\u001b[49m\u001b[43m)\u001b[49m\n\u001b[1;32m    930\u001b[0m \u001b[38;5;66;03m# Add our callback for stepping the animation and\u001b[39;00m\n\u001b[1;32m    931\u001b[0m \u001b[38;5;66;03m# actually start the event_source.\u001b[39;00m\n\u001b[1;32m    932\u001b[0m \u001b[38;5;28mself\u001b[39m\u001b[38;5;241m.\u001b[39mevent_source\u001b[38;5;241m.\u001b[39madd_callback(\u001b[38;5;28mself\u001b[39m\u001b[38;5;241m.\u001b[39m_step)\n",
      "File \u001b[0;32m~/Desktop/JohnZhu/Sentinel/s1/lib/python3.10/site-packages/matplotlib/animation.py:1770\u001b[0m, in \u001b[0;36mFuncAnimation._init_draw\u001b[0;34m(self)\u001b[0m\n\u001b[1;32m   1762\u001b[0m         warnings\u001b[38;5;241m.\u001b[39mwarn(\n\u001b[1;32m   1763\u001b[0m             \u001b[38;5;124m\"\u001b[39m\u001b[38;5;124mCan not start iterating the frames for the initial draw. \u001b[39m\u001b[38;5;124m\"\u001b[39m\n\u001b[1;32m   1764\u001b[0m             \u001b[38;5;124m\"\u001b[39m\u001b[38;5;124mThis can be caused by passing in a 0 length sequence \u001b[39m\u001b[38;5;124m\"\u001b[39m\n\u001b[0;32m   (...)\u001b[0m\n\u001b[1;32m   1767\u001b[0m             \u001b[38;5;124m\"\u001b[39m\u001b[38;5;124mit may be exhausted due to a previous display or save.\u001b[39m\u001b[38;5;124m\"\u001b[39m\n\u001b[1;32m   1768\u001b[0m         )\n\u001b[1;32m   1769\u001b[0m         \u001b[38;5;28;01mreturn\u001b[39;00m\n\u001b[0;32m-> 1770\u001b[0m     \u001b[38;5;28;43mself\u001b[39;49m\u001b[38;5;241;43m.\u001b[39;49m\u001b[43m_draw_frame\u001b[49m\u001b[43m(\u001b[49m\u001b[43mframe_data\u001b[49m\u001b[43m)\u001b[49m\n\u001b[1;32m   1771\u001b[0m \u001b[38;5;28;01melse\u001b[39;00m:\n\u001b[1;32m   1772\u001b[0m     \u001b[38;5;28mself\u001b[39m\u001b[38;5;241m.\u001b[39m_drawn_artists \u001b[38;5;241m=\u001b[39m \u001b[38;5;28mself\u001b[39m\u001b[38;5;241m.\u001b[39m_init_func()\n",
      "File \u001b[0;32m~/Desktop/JohnZhu/Sentinel/s1/lib/python3.10/site-packages/matplotlib/animation.py:1789\u001b[0m, in \u001b[0;36mFuncAnimation._draw_frame\u001b[0;34m(self, framedata)\u001b[0m\n\u001b[1;32m   1785\u001b[0m     \u001b[38;5;28mself\u001b[39m\u001b[38;5;241m.\u001b[39m_save_seq \u001b[38;5;241m=\u001b[39m \u001b[38;5;28mself\u001b[39m\u001b[38;5;241m.\u001b[39m_save_seq[\u001b[38;5;241m-\u001b[39m\u001b[38;5;28mself\u001b[39m\u001b[38;5;241m.\u001b[39m_save_count:]\n\u001b[1;32m   1787\u001b[0m \u001b[38;5;66;03m# Call the func with framedata and args. If blitting is desired,\u001b[39;00m\n\u001b[1;32m   1788\u001b[0m \u001b[38;5;66;03m# func needs to return a sequence of any artists that were modified.\u001b[39;00m\n\u001b[0;32m-> 1789\u001b[0m \u001b[38;5;28mself\u001b[39m\u001b[38;5;241m.\u001b[39m_drawn_artists \u001b[38;5;241m=\u001b[39m \u001b[38;5;28;43mself\u001b[39;49m\u001b[38;5;241;43m.\u001b[39;49m\u001b[43m_func\u001b[49m\u001b[43m(\u001b[49m\u001b[43mframedata\u001b[49m\u001b[43m,\u001b[49m\u001b[43m \u001b[49m\u001b[38;5;241;43m*\u001b[39;49m\u001b[38;5;28;43mself\u001b[39;49m\u001b[38;5;241;43m.\u001b[39;49m\u001b[43m_args\u001b[49m\u001b[43m)\u001b[49m\n\u001b[1;32m   1791\u001b[0m \u001b[38;5;28;01mif\u001b[39;00m \u001b[38;5;28mself\u001b[39m\u001b[38;5;241m.\u001b[39m_blit:\n\u001b[1;32m   1793\u001b[0m     err \u001b[38;5;241m=\u001b[39m \u001b[38;5;167;01mRuntimeError\u001b[39;00m(\u001b[38;5;124m'\u001b[39m\u001b[38;5;124mThe animation function must return a sequence \u001b[39m\u001b[38;5;124m'\u001b[39m\n\u001b[1;32m   1794\u001b[0m                        \u001b[38;5;124m'\u001b[39m\u001b[38;5;124mof Artist objects.\u001b[39m\u001b[38;5;124m'\u001b[39m)\n",
      "Cell \u001b[0;32mIn[21], line 52\u001b[0m, in \u001b[0;36manimate\u001b[0;34m(frame)\u001b[0m\n\u001b[1;32m     49\u001b[0m     plt\u001b[38;5;241m.\u001b[39mimshow(swarm\u001b[38;5;241m.\u001b[39mboids[\u001b[38;5;241m0\u001b[39m]\u001b[38;5;241m.\u001b[39mthermal_image, cmap\u001b[38;5;241m=\u001b[39m\u001b[38;5;124m'\u001b[39m\u001b[38;5;124mhot\u001b[39m\u001b[38;5;124m'\u001b[39m)\n\u001b[1;32m     50\u001b[0m     plt\u001b[38;5;241m.\u001b[39mtitle(\u001b[38;5;124m'\u001b[39m\u001b[38;5;124mThermal Image from Leader Drone\u001b[39m\u001b[38;5;124m'\u001b[39m)\n\u001b[0;32m---> 52\u001b[0m \u001b[43mswarm\u001b[49m\u001b[38;5;241;43m.\u001b[39;49m\u001b[43mupdate_all\u001b[49m\u001b[43m(\u001b[49m\u001b[43m)\u001b[49m\n",
      "Cell \u001b[0;32mIn[20], line 115\u001b[0m, in \u001b[0;36mCVSwarm.update_all\u001b[0;34m(self)\u001b[0m\n\u001b[1;32m    112\u001b[0m alignment \u001b[38;5;241m=\u001b[39m \u001b[38;5;28mself\u001b[39m\u001b[38;5;241m.\u001b[39malignment(boid) \u001b[38;5;241m*\u001b[39m \u001b[38;5;241m1.0\u001b[39m\n\u001b[1;32m    113\u001b[0m separation \u001b[38;5;241m=\u001b[39m \u001b[38;5;28mself\u001b[39m\u001b[38;5;241m.\u001b[39mseparation(boid) \u001b[38;5;241m*\u001b[39m \u001b[38;5;241m1.5\u001b[39m\n\u001b[0;32m--> 115\u001b[0m \u001b[43mboid\u001b[49m\u001b[38;5;241;43m.\u001b[39;49m\u001b[43mapply_force\u001b[49m(cohesion)\n\u001b[1;32m    116\u001b[0m boid\u001b[38;5;241m.\u001b[39mapply_force(alignment)\n\u001b[1;32m    117\u001b[0m boid\u001b[38;5;241m.\u001b[39mapply_force(separation)\n",
      "\u001b[0;31mAttributeError\u001b[0m: 'CVDrone' object has no attribute 'apply_force'"
     ]
    },
    {
     "data": {
      "image/png": "[encoded data removed]",
      "text/plain": [
       "<Figure size 1500x600 with 2 Axes>"
      ]
     },
     "metadata": {},
     "output_type": "display_data"
    }
   ],
   "source": [
    "%matplotlib inline\n",
    "\n",
    "# Create and run simulation\n",
    "swarm = CVSwarm(num_boids=10, num_leaders=2)\n",
    "fig = plt.figure(figsize=(15, 6))\n",
    "anim = FuncAnimation(fig, animate, frames=500, interval=50)\n",
    "\n",
    "from IPython.display import HTML\n",
    "HTML(anim.to_jshtml())"
   ]
  },
  {
   "cell_type": "code",
   "execution_count": null,
   "metadata": {},
   "outputs": [],
   "source": []
  }
 ],
 "metadata": {
  "kernelspec": {
   "display_name": "Python 3 (ipykernel)",
   "language": "python",
   "name": "python3"
  },
  "language_info": {
   "codemirror_mode": {
    "name": "ipython",
    "version": 3
   },
   "file_extension": ".py",
   "mimetype": "text/x-python",
   "name": "python",
   "nbconvert_exporter": "python",
   "pygments_lexer": "ipython3",
   "version": "3.10.12"
  }
 },
 "nbformat": 4,
 "nbformat_minor": 4
}
